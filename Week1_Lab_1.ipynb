{
 "cells": [
  {
   "cell_type": "markdown",
   "metadata": {},
   "source": [
    "# Week 1 Practice: Getting Started with Python\n",
    "# Notes: Python Data Types  \n",
    "\n",
    "## Overview  \n",
    "In Python, data types define the kind of values that variables can store. Understanding these types is fundamental to writing efficient and effective Python programs. Below, we explore six essential data types:  \n",
    "\n",
    "###  **Strings (`str`)**  \n",
    "- A string is a sequence of characters enclosed in either single (`'`) or double (`\"`) quotes.  \n",
    "- Strings are immutable, meaning they cannot be changed once created.  \n",
    "- They support various operations such as concatenation (`+`), repetition (`*`), and slicing (`[]`).  \n",
    "###  **Integers (`int`)**  \n",
    "- Integers are whole numbers (positive, negative, or zero) without decimal points.  \n",
    "- They support arithmetic operations like addition (`+`), subtraction (`-`), multiplication (`*`), division (`/`), and modulus (`%`).\n",
    "###  **Floats (`float`)**  \n",
    "- Floats are numbers with decimal points. They can be positive or negative.  \n",
    "- Useful for scientific calculations, financial applications, and precise measurements.  \n",
    "- Python automatically converts integers to floats when needed.  \n",
    "###  **Booleans (`bool`)**  \n",
    "- Boolean values represent either `True` or `False`.  \n",
    "- Commonly used in conditions, loops, and decision-making.  \n",
    "- Logical operations like `and`, `or`, and `not` can be used with booleans. \n",
    "###  **Lists (`list`)**  \n",
    "- Lists are ordered, mutable collections of elements, enclosed in square brackets (`[]`).  \n",
    "- They can store multiple data types, including other lists (nested lists).  \n",
    "- Common operations include indexing, slicing, appending, and removing elements. \n",
    "###  **Dictionaries (`dict`)**  \n",
    "- Dictionaries store data as key-value pairs and are enclosed in curly brackets (`{}`).  \n",
    "- Keys must be unique and immutable (e.g., strings, numbers, or tuples).  \n",
    "- Values can be of any data type.  \n",
    "- Useful for mapping relationships, like a phone book or a JSON-like structure.  "
   ]
  },
  {
   "cell_type": "markdown",
   "metadata": {},
   "source": [
    "##  **Summary Table**  \n",
    "\n",
    "| Data Type    | Description | Example |\n",
    "|-------------|-------------|---------|\n",
    "| **String (`str`)** | Sequence of characters | `\"Hello\"` |\n",
    "| **Integer (`int`)** | Whole numbers | `42` |\n",
    "| **Float (`float`)** | Decimal numbers | `3.14` |\n",
    "| **Boolean (`bool`)** | `True` or `False` values | `is_raining = False` |\n",
    "| **List (`list`)** | Ordered collection of items | `[\"apple\", \"banana\", \"cherry\"]` |\n",
    "| **Dictionary (`dict`)** | Key-value pairs | `{\"name\": \"Alice\", \"age\": 25}` |\n"
   ]
  },
  {
   "cell_type": "markdown",
   "metadata": {},
   "source": [
    "## String (`str`)"
   ]
  },
  {
   "cell_type": "code",
   "execution_count": 3,
   "metadata": {},
   "outputs": [
    {
     "name": "stdout",
     "output_type": "stream",
     "text": [
      "Variable Practice:\n",
      "My name is Aliak, I am 28 years old, and it is True that I am a student.\n",
      "\n"
     ]
    }
   ],
   "source": [
    "# 1. Create and print variables\n",
    "name = \"Aliak\"  # String variable\n",
    "age = 28        # Integer variable \n",
    "is_student = True  # Boolean variable \n",
    "print(\"Variable Practice:\")\n",
    "print(f\"My name is {name}, I am {age} years old, and it is {is_student} that I am a student.\\n\")\n"
   ]
  },
  {
   "cell_type": "code",
   "execution_count": 4,
   "metadata": {},
   "outputs": [
    {
     "name": "stdout",
     "output_type": "stream",
     "text": [
      "A\n",
      "k\n"
     ]
    }
   ],
   "source": [
    "# Slicing\n",
    "print(name[0])  # Output: A \n",
    "print(name[-1]) # Output: a  "
   ]
  },
  {
   "cell_type": "markdown",
   "metadata": {},
   "source": [
    "###  **Integers (`int`)**  "
   ]
  },
  {
   "cell_type": "code",
   "execution_count": 5,
   "metadata": {},
   "outputs": [
    {
     "name": "stdout",
     "output_type": "stream",
     "text": [
      "Math Package Practice:\n",
      "The square root of 25 is 5.0.\n",
      "\n"
     ]
    }
   ],
   "source": [
    "# 2. Import the math package and perform calculations\n",
    "import math\n",
    "print(\"Math Package Practice:\")\n",
    "number = 25\n",
    "square_root = math.sqrt(number)\n",
    "print(f\"The square root of {number} is {square_root}.\\n\")\n"
   ]
  },
  {
   "cell_type": "code",
   "execution_count": 6,
   "metadata": {},
   "outputs": [
    {
     "name": "stdout",
     "output_type": "stream",
     "text": [
      "7\n"
     ]
    }
   ],
   "source": [
    "num1 = 10\n",
    "num2 = -3\n",
    "total = num1 + num2\n",
    "print(total)  "
   ]
  },
  {
   "cell_type": "markdown",
   "metadata": {},
   "source": [
    "### **Floats (`float`)**  "
   ]
  },
  {
   "cell_type": "code",
   "execution_count": 7,
   "metadata": {},
   "outputs": [
    {
     "name": "stdout",
     "output_type": "stream",
     "text": [
      "21.3893\n"
     ]
    }
   ],
   "source": [
    "price = 19.99\n",
    "tax = 0.07\n",
    "total_price = price + (price * tax)\n",
    "print(total_price)  "
   ]
  },
  {
   "cell_type": "markdown",
   "metadata": {},
   "source": [
    "###  **Booleans (`bool`)** "
   ]
  },
  {
   "cell_type": "code",
   "execution_count": 8,
   "metadata": {},
   "outputs": [
    {
     "name": "stdout",
     "output_type": "stream",
     "text": [
      "Let's go outside!\n"
     ]
    }
   ],
   "source": [
    "is_sunny = True\n",
    "is_raining = False\n",
    "\n",
    "if is_sunny and not is_raining:\n",
    "    print(\"Let's go outside!\")  \n"
   ]
  },
  {
   "cell_type": "markdown",
   "metadata": {},
   "source": [
    "###  **Lists (`list`)**  "
   ]
  },
  {
   "cell_type": "code",
   "execution_count": 9,
   "metadata": {},
   "outputs": [
    {
     "name": "stdout",
     "output_type": "stream",
     "text": [
      "['apple', 'banana', 'cherry', 'orange']\n",
      "banana\n",
      "['apple', 'banana']\n"
     ]
    }
   ],
   "source": [
    "fruits = [\"apple\", \"banana\", \"cherry\"]\n",
    "fruits.append(\"orange\") \n",
    "print(fruits)  \n",
    "\n",
    "# Accessing elements\n",
    "print(fruits[1]) \n",
    "\n",
    "# Slicing\n",
    "print(fruits[:2]) "
   ]
  },
  {
   "cell_type": "markdown",
   "metadata": {},
   "source": [
    "### **Dictionaries (`dict`)**  "
   ]
  },
  {
   "cell_type": "code",
   "execution_count": 10,
   "metadata": {},
   "outputs": [
    {
     "name": "stdout",
     "output_type": "stream",
     "text": [
      "Alia \n",
      "{'name': 'Alia ', 'age': 28, 'city': 'New York', 'job': 'Engineer'}\n"
     ]
    }
   ],
   "source": [
    "\n",
    "person = {\n",
    "    \"name\": \"Alia \",\n",
    "    \"age\": 28,\n",
    "    \"city\": \"New York\"\n",
    "}\n",
    "# Accessing values\n",
    "print(person[\"name\"]) \n",
    "\n",
    "# Adding a new key-value pair\n",
    "person[\"job\"] = \"Engineer\"\n",
    "print(person)  "
   ]
  },
  {
   "cell_type": "markdown",
   "metadata": {},
   "source": [
    "## `Hands-on #1`"
   ]
  },
  {
   "cell_type": "code",
   "execution_count": 11,
   "metadata": {},
   "outputs": [],
   "source": [
    "# Create and print a list\n"
   ]
  },
  {
   "cell_type": "code",
   "execution_count": 15,
   "metadata": {},
   "outputs": [],
   "source": [
    "# Challenge: Combine variables and lists"
   ]
  },
  {
   "cell_type": "code",
   "execution_count": 8,
   "metadata": {},
   "outputs": [
    {
     "name": "stdout",
     "output_type": "stream",
     "text": [
      "Bonus Practice:\n",
      "The area of a circle with radius 7 is approximately 153.94.\n"
     ]
    }
   ],
   "source": [
    "#Bonus: Calculate the area of a circle using the math package\n"
   ]
  }
 ],
 "metadata": {
  "kernelspec": {
   "display_name": "base",
   "language": "python",
   "name": "python3"
  },
  "language_info": {
   "codemirror_mode": {
    "name": "ipython",
    "version": 3
   },
   "file_extension": ".py",
   "mimetype": "text/x-python",
   "name": "python",
   "nbconvert_exporter": "python",
   "pygments_lexer": "ipython3",
   "version": "3.11.5"
  }
 },
 "nbformat": 4,
 "nbformat_minor": 2
}
